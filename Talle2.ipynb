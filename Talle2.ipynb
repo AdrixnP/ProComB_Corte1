{
  "nbformat": 4,
  "nbformat_minor": 0,
  "metadata": {
    "colab": {
      "name": "Talle2.ipynb",
      "provenance": []
    },
    "kernelspec": {
      "name": "python3",
      "display_name": "Python 3"
    },
    "language_info": {
      "name": "python"
    }
  },
  "cells": [
    {
      "cell_type": "markdown",
      "source": [
        "Adrián Parra y \n",
        "Daniel Rodriguez\n",
        "\n"
      ],
      "metadata": {
        "id": "Wxy09Z6wfS8F"
      }
    },
    {
      "cell_type": "markdown",
      "source": [
        "#Ejercicio 2 For\n"
      ],
      "metadata": {
        "id": "PJrAWyQwdWkc"
      }
    },
    {
      "cell_type": "code",
      "source": [
        "n1=0\n",
        "n2=1\n",
        "suma=0\n",
        "print(\"Secuencia: \")\n",
        "for i in range (1,31,1):\n",
        "  print(suma)\n",
        "  n1=n2\n",
        "  n2=suma\n",
        "  suma=n1+n2"
      ],
      "metadata": {
        "id": "hjjuay6AdZvv"
      },
      "execution_count": null,
      "outputs": []
    },
    {
      "cell_type": "markdown",
      "source": [
        "#Ejercicio 2 While"
      ],
      "metadata": {
        "id": "6n0c1Iz8djOW"
      }
    },
    {
      "cell_type": "code",
      "source": [
        "n1=0\n",
        "n2=1\n",
        "suma=0\n",
        "cont=1\n",
        "print(\"Secuencia: \")\n",
        "while cont<=30:\n",
        " print(suma)\n",
        " cont=cont+1\n",
        " n1=n2\n",
        " n2=suma\n",
        " suma=n1+n2"
      ],
      "metadata": {
        "id": "WQNq4MnpdmnN"
      },
      "execution_count": null,
      "outputs": []
    },
    {
      "cell_type": "markdown",
      "source": [
        "#Ejercicio 6 For"
      ],
      "metadata": {
        "id": "diGGkpfvW9_4"
      }
    },
    {
      "cell_type": "code",
      "source": [
        "print(\"Este programa muestra la tabla de multiplicar de un número\")\n",
        "x=int(input(\"Número: \"))\n",
        "print (\"*- Tabla del\",x, \"-*\")\n",
        "for i in range(1,11):\n",
        "  print(x,\"x\",i,\"=\",x*i)"
      ],
      "metadata": {
        "id": "2bak9aa0a5R3"
      },
      "execution_count": null,
      "outputs": []
    },
    {
      "cell_type": "markdown",
      "source": [
        "#Ejercicio 6 While"
      ],
      "metadata": {
        "id": "NWZCGCS3b-Tl"
      }
    },
    {
      "cell_type": "code",
      "source": [
        "print(\"Este programa muestra la tabla de multiplicar de un número\")\n",
        "x=int(input(\"Número: \"))\n",
        "n=1\n",
        "print(\"*- Tabla del\",x, \"-*\")\n",
        "while n<11:\n",
        "  print(x,\"x\",n,\"=\",x*n)\n",
        "  n+=1"
      ],
      "metadata": {
        "id": "WnHDxO86cBfO"
      },
      "execution_count": null,
      "outputs": []
    },
    {
      "cell_type": "markdown",
      "source": [
        "#Ejercicio 7 While\n"
      ],
      "metadata": {
        "id": "ne-dDWKIdrUQ"
      }
    },
    {
      "cell_type": "code",
      "source": [
        "N=110\n",
        "i=0\n",
        "suma=0\n",
        "while N!=0:\n",
        "  i=N-10\n",
        "  suma+=i\n",
        "  N=N-10\n",
        "print(\"La suma 100+90+80...:\", suma)"
      ],
      "metadata": {
        "id": "sGusLGPAdzZg"
      },
      "execution_count": null,
      "outputs": []
    }
  ]
}