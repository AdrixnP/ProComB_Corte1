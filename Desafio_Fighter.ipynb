{
  "nbformat": 4,
  "nbformat_minor": 0,
  "metadata": {
    "colab": {
      "provenance": [],
      "collapsed_sections": []
    },
    "kernelspec": {
      "name": "python3",
      "display_name": "Python 3"
    },
    "language_info": {
      "name": "python"
    }
  },
  "cells": [
    {
      "cell_type": "markdown",
      "source": [
        "#Adrián Parra"
      ],
      "metadata": {
        "id": "SunPxu_RWi0p"
      }
    },
    {
      "cell_type": "code",
      "source": [
        "#Ejercicio 1 Adrián Parra\n",
        "nNumero1=int(input('Escribe un numero entero: '))\n",
        "nNumero2=int(input('Escriba un segundo numero:'))\n",
        "division=(nNumero1/nNumero2)\n",
        "modulo=(nNumero1%nNumero2)\n",
        "Result=(f'La division es exacta. El resultado es : cociente={int(division)}') if modulo==0  else (f'La division no es exacta. El resultado es : cociente={division} y el resto= {modulo}')\n",
        "print(Result)"
      ],
      "metadata": {
        "id": "D4RlamUvVAmj"
      },
      "execution_count": null,
      "outputs": []
    },
    {
      "cell_type": "code",
      "execution_count": null,
      "metadata": {
        "id": "WULaTyS_K_Ma"
      },
      "outputs": [],
      "source": [
        "#Ejercicio 2 Adrián Parra\n",
        "\n",
        "print(\"Este programa solicita 2 números y verificará si uno es múltiplo de otro\")\n",
        "\n",
        "n1=int(input(\"Ingrese el primer número: \"))\n",
        "n2=int(input(\"Ingrese el segundo número: \"))\n",
        "rta=(n1%n2)\n",
        "RTA=\"Si es múltiplo\" if rta==0 else \"No es múltiplo\"\n",
        "print(RTA)"
      ]
    },
    {
      "cell_type": "code",
      "source": [
        "#Ejercicio3 Adrián Parra\n",
        "\n",
        "h1 = int(input(\"Digita la edad del primer hermano: \"))\n",
        "h2 = int(input(\"Digita la edad del segundo hermano: \"))\n",
        "h3 = int(input(\"Digita la edad del tercer hermano: \"))\n",
        "\n",
        "orden = \"El primer hermano es el mayor\"  if h1>h2 and h1>h3 else  \"El segundo hermano es el mayor\", \"El tercer hermano es el mayor\" if h3>h1 and h3>h2 else  \"El primer y segundo hermano son gemelos\" if h1==h2 else \"El segundo y tercer hermano son gemelos\" if h2==h3 else \"El primero y tercer hemano son gemelos \" if h1==h3 else \"son trillizos\" if h1==h2==h3 else \"no son trillizos\"\n",
        "print(orden)"
      ],
      "metadata": {
        "id": "_qYCQU75VQeC"
      },
      "execution_count": null,
      "outputs": []
    },
    {
      "cell_type": "code",
      "source": [
        "#Ejercicio 4  Adrián Parra\n",
        "Nom=str(input(\"Digite su nombre\"))\n",
        "Pat=int(input(\"Ingrese su patrimonio bruto al término del año 2021 sin puntos ni comas\"))\n",
        "Ing=int(input(\"Ingrese sus ingresos totales del ejercicio gravable para el año 2022 sin puntos ni comas\"))\n",
        "Tar=int(input(\"Ingrese su gastos por medio de tarjeta de crédito para el año 2022 sin puntos ni comas \"))\n",
        "Com=int(input(\"Ingrese el valor total de las compras y consumos para el  año 2022 sin puntos ni comas\"))\n",
        "Con=int(input(\"Ingrese el valor total acumulado de consignaciones bancarias, depósitos o inversiones financieras para el  año 2022 sin puntos ni comas \"))\n",
        "Dian=\"Usted\",Nom,\"Debe declarar Renta para el año 2022\",\"no olvide realizarla con ayuda de su contador de confianza\" if Pat >= 163386000 or Ing >= 50831000 or Tar >= 50831000 or Com >= 50831000 or Con >= 50831000 else \"Usted\",Nom,\"No debe presentar Declaracion de Renta para el año 2022\"\n",
        "print(Dian)"
      ],
      "metadata": {
        "id": "NCjuN_VmViCx"
      },
      "execution_count": null,
      "outputs": []
    },
    {
      "cell_type": "code",
      "source": [
        "#Ejercicio 6\n",
        "n1=int(input(\"Ingrese su primera nota: \"))\n",
        "n2=int(input(\"Ingrese su segunda nota: \"))\n",
        "n3=int(input(\"Ingrese su tercera nota: \"))\n",
        "n4=int(input(\"Ingrese su cuarta nota: \"))\n",
        "sn=n1+n2+n3+n4\n",
        "ntf=sn/4 \n",
        "\n",
        "nf=\"Queda eximido del ultimo examen\" if ntf>4.5 else \"debe presentar el examen\" if ntf>3.5 else \"debe presentar el examen y entregar un trabajo\" if ntf>3.0 else\"debe presentar habilitación\" if ntf>2.0 else\"perdio la materia irremediablemente\"\n",
        "\n",
        "print(nf, \"su nota final es\",ntf)"
      ],
      "metadata": {
        "id": "HBfHRiErVrVB"
      },
      "execution_count": null,
      "outputs": []
    },
    {
      "cell_type": "code",
      "source": [
        "#Ejercicio 8 Adrián Parra\n",
        "a = int(input(\"Ingresa un año: \"))\n",
        "print(\"El año\", a, \"es bisiesto\") if (a%4==0 and a%100!=0) else print(\"El año\", a, \"no es bisiesto\")"
      ],
      "metadata": {
        "id": "MZ2nebHtSETR"
      },
      "execution_count": null,
      "outputs": []
    },
    {
      "cell_type": "code",
      "source": [
        "#Ejercicio 14 Adrián Parra\n",
        "letra= str(input(\"Deme un letra y te dire si es vocal o consonante: \")).lower()\n",
        "tipo1=(letra, \"es vocal\") if letra ==\"a\" or letra==\"e\" or letra==\"i\" or letra==\"o\" or letra==\"u\" else \"No es vocal\"\n",
        "tipo2=(letra, \"es consonante\") if letra== \"b\" or letra== \"c\" or letra== \"d\" or letra== \"f\" or letra== \"g\" or letra== \"h\" or letra== \"j\" or letra== \"k\" or letra== \"l\" or letra== \"m\" or letra== \"n\" or letra== \"o\" or letra== \"p\" or letra== \"q\" or letra== \"r\" or letra== \"s\" or letra== \"t\" or letra== \"v\" or letra== \"x\" or letra== \"w\" or letra== \"y\" or letra== \"z\" else (\"No es consonante.\")\n",
        "print(tipo1)\n",
        "print(tipo2)"
      ],
      "metadata": {
        "id": "5YXUS0cJWF0Y"
      },
      "execution_count": null,
      "outputs": []
    },
    {
      "cell_type": "code",
      "source": [
        "#Ejercicio 15 Adrián Parra\n",
        "Texto = int(input(\"\")) \n",
        "Result= abs(Texto) if Texto<0 else (f\"{Texto}\")\n",
        "print(Result)"
      ],
      "metadata": {
        "id": "CTrIOvTxV8Ro"
      },
      "execution_count": null,
      "outputs": []
    },
    {
      "cell_type": "code",
      "source": [
        "#Ejercicio 16 Adrián Parra\n",
        "\n",
        "print(\"Ingresa el nombre de 2 usuarios\") \n",
        "u1=input(\"Usuario 1: \") \n",
        "u2=input(\"Usuario 2: \")\n",
        "u1=u1.upper()\n",
        "u2=u2.upper()\n",
        "\n",
        "r=print(\"Hay coincidencia\") if u1[0:1]==u2[0:1] else (\"No hay coincidencia\")\n",
        "print(r)"
      ],
      "metadata": {
        "id": "mZEIHRlKRSRu"
      },
      "execution_count": null,
      "outputs": []
    },
    {
      "cell_type": "code",
      "source": [
        "#Ejercicio 19 Adrián Parra\n",
        "\n",
        "print(\"Este prgrama verificará si una palabra es palíndromo o no\")\n",
        "p=str(input(\"Ingrese una palabra: \"))\n",
        "p=p.upper()\n",
        "\n",
        "rta=\"Es un palíndromo\" if (p) == (p)[::-1] else \"No es un palíndromo\"\n",
        "print(rta)"
      ],
      "metadata": {
        "id": "yQRsbV4jPh7i"
      },
      "execution_count": null,
      "outputs": []
    },
    {
      "cell_type": "code",
      "source": [
        "#Ejercicio 20 Adrián Parra\n",
        "\n",
        "print(\"Este prgrama verificará si un número es palíndromo o no\")\n",
        "p=int(input(\"Ingrese el número: \"))\n",
        "\n",
        "rta=\"Es un palíndromo\" if  str(p) == str(p)[::-1] else \"No es un palíndromo\"\n",
        "print(rta)"
      ],
      "metadata": {
        "id": "gmwdIFSYPw8l"
      },
      "execution_count": null,
      "outputs": []
    }
  ]
}