{
  "nbformat": 4,
  "nbformat_minor": 0,
  "metadata": {
    "colab": {
      "name": "Taller 1 Programación",
      "provenance": [],
      "collapsed_sections": [
        "W7sf1Se4qfES",
        "JjBIGYePxm6t",
        "bEAqexNC0Vrr",
        "nM1rnpPNNsC4",
        "5tr7eahw9krV",
        "D1KgK02jWvTR",
        "b1Xcu0byD-pZ",
        "HUgG0tdArlZ6",
        "TE-2-7NcvVuF",
        "Fh61ijoTyAaE",
        "MyZ03j6Qz90N",
        "eDYkPeut04Pd",
        "b-aP0-oT7a34",
        "VJTHjcTS36CW",
        "Fhm75fYm45UK"
      ]
    },
    "kernelspec": {
      "name": "python3",
      "display_name": "Python 3"
    },
    "language_info": {
      "name": "python"
    }
  },
  "cells": [
    {
      "cell_type": "markdown",
      "source": [
        "#Ejercicio 1\n"
      ],
      "metadata": {
        "id": "W7sf1Se4qfES"
      }
    },
    {
      "cell_type": "code",
      "source": [
        "#Adrián Parra\n",
        "\n",
        "print(\"Este programa solicitara 2 números para luego realizar su división\")\n",
        "\n",
        "n1=int(input(\"Ingrese el número que se va a dividir: \"))\n",
        "n2=int(input(\"Ingrese el número por el que se va a divir: \"))\n",
        "\n",
        "if n2 != 0:\n",
        "  #Se debe ingresar la división dentro del if para que no de error con divisir entre 0\n",
        "\n",
        "  rta=float(n1/n2)\n",
        "  residuo=(n1%n2)\n",
        "  if residuo == 0:\n",
        "    print(\"-El resultado de la división de\", (n1), \"entre\", (n2), \"es:\", int(rta))\n",
        "    print(\"-División exacta\")\n",
        "\n",
        "  else:\n",
        "    print(\"-El resultado de la división de\", (n1), \"entre\", (n2), \"es:\", (rta))\n",
        "    print(\"-División no exacta\")\n",
        "    \n",
        "    print(\"-De forma entera sería\", (n1//n2), \"con un residuo de\", (residuo))\n",
        "\n",
        "else:\n",
        "  print(\"-Error, división entre 0\")"
      ],
      "metadata": {
        "id": "xtYRcmQxr7rt"
      },
      "execution_count": null,
      "outputs": []
    },
    {
      "cell_type": "markdown",
      "source": [
        "#Ejercicio 2"
      ],
      "metadata": {
        "id": "JjBIGYePxm6t"
      }
    },
    {
      "cell_type": "code",
      "source": [
        "#Adrián Parra\n",
        "\n",
        "print(\"Este programa solicita 2 números y verificará si uno es múltiplo de otro\")\n",
        "\n",
        "n1=int(input(\"Ingrese el primer número: \"))\n",
        "n2=int(input(\"Ingrese el segundo número: \"))\n",
        "rta=(n1%n2)\n",
        "\n",
        "if rta == 0:\n",
        "  print(\"El número\", (n1), \"si es múltiplo de\", (n2))\n",
        "else:\n",
        "  print(\"El número\", (n1), \"no es múltiplo de\", (n2))"
      ],
      "metadata": {
        "id": "E1bxVLiqxplL"
      },
      "execution_count": null,
      "outputs": []
    },
    {
      "cell_type": "markdown",
      "source": [
        "#Ejercicio 3"
      ],
      "metadata": {
        "id": "bEAqexNC0Vrr"
      }
    },
    {
      "cell_type": "code",
      "source": [
        "#Adrián Parra\n",
        "\n",
        "print(\"Este programa solicirá la edad de 3 hermanos y los ordenará de menor a mayor\")\n",
        "\n",
        "h1=int(input(\"Ingrese la edad un hermano: \"))\n",
        "h2=int(input(\"Ingrese la edad del otro hermano: \"))\n",
        "h3=int(input(\"Ingrese la edad del hermano restante: \"))\n",
        "\n",
        "if h3<h2 and h3<h1 and h2<h1:\n",
        "  print(f\"El orden de menor a mayor sería el de {h3} años, luego el de {h2} años y finalmente el de {h1} años\")\n",
        "elif h3<h1 and h3<h2 and h1<h2:\n",
        "  print(f\"El orden de menor a mayor sería el de {h3} años, luego el de {h1} años y finalmente el de {h2} años\")\n",
        "elif h2<h3 and h2<h1 and h3<h1:\n",
        "  print(f\"El orden de menor a mayor sería el de {h2} años, luego el de {h3} años y finalmente el de {h1} años\")\n",
        "elif h2<h1 and h2<h3 and h1<h3:\n",
        "  print(f\"El orden de menor a mayor sería el de {h2} años, luego el de {h1} años y finalmente el de {h3} años\")\n",
        "elif h1<h2 and h1<h3 and h2<h3:\n",
        "  print(f\"El orden de menor a mayor sería el de {h1} años, luego el de {h2} años y finalmente el de {h3} años\")\n",
        "elif h1<h3 and h1<h2 and h3<h2:\n",
        "  print(f\"El orden de menor a mayor sería el de {h1} años, luego el de {h3} años y finalmente el de {h2} años\")\n",
        "elif h1==h2 and h1==h3:\n",
        "  print(f\"Los hermanos son trillizos de {h1} años\")\n",
        "elif h3==h2 and h3<h1:\n",
        "  print(f\"El orden de menor a mayor sería los gemelos de {h3} años y luego el hermano de {h1} años\")\n",
        "elif h3==h2 and h3>h1:\n",
        "  print(f\"El orden de menor a mayor sería el hermano de {h1} años y luego los gemelos de {h3} años\")\n",
        "elif h3==h1 and h3<h2:\n",
        "  print(f\"El orden de menor a mayor sería los gemelos de {h3} años y luego el hermano de {h2} años\")\n",
        "elif h3==h1 and h3>h2:\n",
        "  print(f\"El orden de menor a mayor sería el hermano de {h2} años y luego los gemelos de {h3} años\")\n",
        "elif h2==h1 and h2<h3:\n",
        "  print(f\"El orden de menor a mayor sería los gemelos de {h2} años y luego el hermano de {h3} años\")\n",
        "elif h2==h1 and h2>h3:\n",
        "  print(f\"El orden de menor a mayor sería el hermano de {h3} años y luego los gemelos de {h2} años\")"
      ],
      "metadata": {
        "id": "MKJtm73w0Yt6"
      },
      "execution_count": null,
      "outputs": []
    },
    {
      "cell_type": "markdown",
      "source": [
        "#Ejercicio 5"
      ],
      "metadata": {
        "id": "nM1rnpPNNsC4"
      }
    },
    {
      "cell_type": "code",
      "source": [
        "#Adrián Parra\n",
        "\n",
        "print(\"Este programa le solicitará su código universitario y señalará la universidad a que pertenece\")\n",
        "\n",
        "code=str(input(\"Ingrese su código: \"))\n",
        "\n",
        "if (code[0])==\"U\" or (code[0])==\"u\":\n",
        "  print(\"Ud pertence a la UNAB\")\n",
        "  if (code[7])==\"2\" and (code[8])==\"6\":\n",
        "    print(\"En la carrera de ingeniería electrónica\")\n",
        "  elif (code[7])==\"3\" and (code[8])==\"2\":\n",
        "    print(\"En la carrera de ingeniería de sistemas\")\n",
        "  elif (code[7])==\"5\" and (code[8])==\"0\":\n",
        "    print(\"En la carrera de ingeniería de administración de empresas\")\n",
        "elif (code[0])==\"A\" or (code[0])==\"a\":\n",
        "  print(\"Ud pertence a los ANDES\")\n",
        "\n",
        "else:\n",
        "  code=int(code)\n",
        "  if code>1950:\n",
        "    print(\"Ud pertence a la UIS\")\n",
        "  else:\n",
        "    print(\"Ingrese un código válido\")\n",
        "\n",
        "\n"
      ],
      "metadata": {
        "id": "rzq03WIENva_"
      },
      "execution_count": null,
      "outputs": []
    },
    {
      "cell_type": "markdown",
      "source": [
        "#Ejercicio 6"
      ],
      "metadata": {
        "id": "5tr7eahw9krV"
      }
    },
    {
      "cell_type": "code",
      "source": [
        "#Adrián Parra\n",
        "\n",
        "print(\"Este programa solicitará 4 notas y sacará su promedio\")\n",
        "print(\"Luego dependiendo del promedio le dirá que debe hacer para el fin de curso\")\n",
        "\n",
        "n1=float(input(\"Ingrese la nota 1: \"))\n",
        "n2=float(input(\"Ingrese la nota 2: \"))\n",
        "n3=float(input(\"Ingrese la nota 3: \"))\n",
        "n4=float(input(\"Ingrese la nota 4: \"))\n",
        "t=(n1+n2+n3+n4)\n",
        "p=(t/4)\n",
        "\n",
        "print(p)\n",
        "\n",
        "if p>=4.5:\n",
        "  print(\"Ud esta eximido del último examen, felicitaciones\")\n",
        "elif p>3.5 and p<4.5:\n",
        "  print(\"Ud debe presentar el examen final\")\n",
        "elif p>=3 and p<=3.5:\n",
        "  print(\"Ud debe presentar el examen final y realizar un trabajo aparte\")\n",
        "elif p<3 and p>2:\n",
        "  print(\"Ud debe presentar habilitación\")\n",
        "else:\n",
        "  print(\"Ya perdió la materia irremediablemente\")"
      ],
      "metadata": {
        "id": "Ws9mnREP9ma9"
      },
      "execution_count": null,
      "outputs": []
    },
    {
      "cell_type": "markdown",
      "source": [
        "#Ejercicio 7"
      ],
      "metadata": {
        "id": "D1KgK02jWvTR"
      }
    },
    {
      "cell_type": "code",
      "source": [
        "#Adrián Parra\n",
        "\n",
        "print(\"Este programa calculará cuantos días le faltan para cumpli años\")\n",
        "print(\"Ingrese la fecha actual\")\n",
        "dA=int(input(\"Día: \"))\n",
        "mA=int(input(\"Mes: \"))\n",
        "aA=int(input(\"Año: \"))\n",
        "\n",
        "print(\"Ingrese su fecha de nacimiento\")\n",
        "dN=int(input(\"Día: \"))\n",
        "mN=int(input(\"Mes: \"))\n",
        "aN=int(input(\"Año: \"))\n",
        "\n",
        "dias=((((mA-mN)*30)+(dA-dN))*-1)\n",
        "edad=(aA-aN)\n",
        "\n",
        "if mN>mA:\n",
        "  edad=(edad-1)\n",
        "elif mN==mA and dN>dA:\n",
        "  edad=(edad-1)\n",
        "\n",
        "if mN<mA:\n",
        "  dias=(365+dias)\n",
        "elif mN==mA and dN<dA:\n",
        "  dias=(365+dias)\n",
        "\n",
        "print(\"Ud tiene\", edad, \"años de edad\")\n",
        "print(\"Le faltan\", dias, \"días aproximadamente para cumplir años\")\n",
        "\n"
      ],
      "metadata": {
        "id": "rCg1zGftWyuZ"
      },
      "execution_count": null,
      "outputs": []
    },
    {
      "cell_type": "markdown",
      "source": [
        "#Ejercicio 8\n"
      ],
      "metadata": {
        "id": "b1Xcu0byD-pZ"
      }
    },
    {
      "cell_type": "code",
      "source": [
        "#Adrián Parra\n",
        "\n",
        "print(\"Este programa solicita un año y evalua si es bisiesto\")\n",
        "año=int(input(\"Escribe el año \"))\n",
        "\n",
        "if año%4==0 and año%100==0 and año%400==0:\n",
        "    print(\"El año es bisiesto\")\n",
        "elif año%4==0 and año%100!=0:\n",
        "    print(\"El año es bisiesto\")       \n",
        "else:\n",
        "    print(\"El año no es bisiesto\")"
      ],
      "metadata": {
        "id": "sEKXhMonEIvY"
      },
      "execution_count": null,
      "outputs": []
    },
    {
      "cell_type": "markdown",
      "source": [
        "#Ejercicio 12\n"
      ],
      "metadata": {
        "id": "HUgG0tdArlZ6"
      }
    },
    {
      "cell_type": "code",
      "source": [
        "import random\n",
        "\n",
        "#Adrián Parra\n",
        "\n",
        "print(\"Este programa verificará si ud sabe hacer las oprecaiones básicas de las matemáticas\")\n",
        "\n",
        "print(\"1)Suma 2)Resta 3)Multiplicación 4)División\")\n",
        "Accion=int(input(\"Escriba el número de la operación correspondiente que desea probar: \"))\n",
        "\n",
        "while Accion<0 or Accion>4:\n",
        "    Accion=int(input(\"Escriba un número válido de la acción que desea realizar: \"))\n",
        "\n",
        "a = random.randint(0, 100)\n",
        "b = random.randint(0, 100)\n",
        "\n",
        "if Accion==1:\n",
        "  print(a, \"+\", b)\n",
        "  prueba=(a+b)\n",
        "  rta=int(input(\"Ingrese la respuesta de la suma: \"))\n",
        "  if prueba==rta:\n",
        "    print(\"Acertó con la respuesta\")\n",
        "  else:\n",
        "    print(\"No acertó con la respuesta\")\n",
        "    print(\"Respuesta correcta:\", prueba)\n",
        "\n",
        "elif Accion==2:\n",
        "  print(a, \"-\", b)\n",
        "  prueba=(a-b)\n",
        "  rta=int(input(\"Ingrese la respuesta de la resta: \"))\n",
        "  if prueba==rta:\n",
        "    print(\"Acertó con la respuesta\")\n",
        "  else:\n",
        "    print(\"No acertó con la respuesta\")\n",
        "    print(\"Respuesta correcta:\", prueba)\n",
        "\n",
        "elif Accion==3:\n",
        "  print(a, \"*\", b)\n",
        "  prueba=(a*b)\n",
        "  rta=int(input(\"Ingrese la respuesta de la multiplicación: \"))\n",
        "  if prueba==rta:\n",
        "    print(\"Acertó con la respuesta\")\n",
        "  else:\n",
        "    print(\"No acertó con la respuesta\")\n",
        "    print(\"Respuesta correcta:\", prueba)\n",
        "\n",
        "elif Accion==4:\n",
        "  a=(a*10)\n",
        "  print(a, \"/\", b)\n",
        "  prueba=(a/b)\n",
        "  rta=int(input(\"Ingrese la respuesta aproximada de la división: \"))\n",
        "  if int(prueba)==rta:\n",
        "    print(\"Acertó con la respuesta\")\n",
        "    print(\"Número real:\", prueba)\n",
        "  else:\n",
        "    print(\"No acertó con la respuesta\")\n",
        "    print(\"Respuesta correcta:\", prueba, \"Respuesta entera:\", int(prueba))"
      ],
      "metadata": {
        "id": "GoM5tuCArnuB"
      },
      "execution_count": null,
      "outputs": []
    },
    {
      "cell_type": "markdown",
      "source": [
        "#Ejercicio 13"
      ],
      "metadata": {
        "id": "TE-2-7NcvVuF"
      }
    },
    {
      "cell_type": "code",
      "source": [
        "#Adrián Parra\n",
        "\n",
        "print(\"Este programa hace converciones de unidades\")\n",
        "print(\"1)Cm -> m 2)cm -> Km 3)m -> cm 4)Km -> cm 5)Km -> m\")\n",
        "\n",
        "Accion=int(input(\"Escriba el número de la converción que desea realizar: \"))\n",
        "while Accion<0 or Accion>5:\n",
        "    Accion=int(input(\"Escriba un número válido de la acción que desea realizar: \"))\n",
        "\n",
        "if Accion==1:\n",
        "  print(\"Centímetros a metros\")\n",
        "  a=float(input(\"Valor que desea convertir: \"))\n",
        "  b=(a/100)\n",
        "  print(a, \"centímetros son\", b, \"metros\")\n",
        "elif Accion==2:\n",
        "  print(\"Centímetros a kilómetros\")\n",
        "  a=float(input(\"Valor que desea convertir: \"))\n",
        "  b=(a/100000)\n",
        "  print(a, \"centímetros son\", b, \"kilómetros\")\n",
        "elif Accion==3:\n",
        "  print(\"Metros a centímetros\")\n",
        "  a=float(input(\"Valor que desea convertir: \"))\n",
        "  b=(a*100)\n",
        "  print(a, \"metros son\", b, \"centímetros\")\n",
        "elif Accion==4:\n",
        "  print(\"Kilómetros a centímetros\")\n",
        "  a=float(input(\"Valor que desea convertir: \"))\n",
        "  b=(a*100000)\n",
        "  print(a, \"kilómetros son\", b, \"centímetros\")\n",
        "elif Accion==5:\n",
        "  print(\"Kilómetros a metros\")\n",
        "  a=float(input(\"Valor que desea convertir: \"))\n",
        "  b=(a*1000)\n",
        "  print(a, \"kilómetros son\", b, \"metros\")"
      ],
      "metadata": {
        "id": "d1ezNg_lveTb"
      },
      "execution_count": null,
      "outputs": []
    },
    {
      "cell_type": "markdown",
      "source": [
        "#Ejercicio 14"
      ],
      "metadata": {
        "id": "Fh61ijoTyAaE"
      }
    },
    {
      "cell_type": "code",
      "source": [
        "#Adrián Parra\n",
        "\n",
        "print(\"Este programa le solicitará una letra y define si es vocal o consonante\")\n",
        "letra=str(input(\"Ingrese la letra: \"))\n",
        "letra=letra.upper()\n",
        "\n",
        "if letra==(\"A\") or letra==(\"E\") or letra==(\"I\") or letra==(\"O\") or letra==(\"U\"):\n",
        "  print(\"La letra\", letra, \"es una vocal\")\n",
        "elif letra==(\"B\") or letra==(\"C\") or letra==(\"D\") or letra==(\"F\") or letra==(\"G\") or letra==(\"H\") or letra==(\"J\") or letra==(\"K\") or letra==(\"L\") or letra==(\"M\") or letra==(\"N\") or letra==(\"Ñ\") or letra==(\"P\") or letra==(\"Q\") or letra==(\"R\") or letra==(\"S\") or letra==(\"T\") or letra==(\"V\") or letra==(\"W\") or letra==(\"X\") or letra==(\"Y\") or letra==(\"Z\"):\n",
        "  print(\"La letra\", letra, \"es una consonante\")\n",
        "else:\n",
        "  print(\"Error\")"
      ],
      "metadata": {
        "id": "Yf6B6YC-yDg7"
      },
      "execution_count": null,
      "outputs": []
    },
    {
      "cell_type": "markdown",
      "source": [
        "#Ejercicio 15"
      ],
      "metadata": {
        "id": "MyZ03j6Qz90N"
      }
    },
    {
      "cell_type": "code",
      "source": [
        "#Adrián Parra\n",
        "\n",
        "print(\"Este programa dará el valor absoluto de un número entero\")\n",
        "a=int(input(\"Ingrese el número: \"))\n",
        "\n",
        "if a>=0:\n",
        "  print(\"El valor absoluto de\", a, \"es el mismo número,\", a)\n",
        "elif a<0:\n",
        "  print(\"El valor absoluto de\", a, \"es\", (a*-1))"
      ],
      "metadata": {
        "id": "E4e4GGv60Ao0"
      },
      "execution_count": null,
      "outputs": []
    },
    {
      "cell_type": "markdown",
      "source": [
        "#Ejercicio 16"
      ],
      "metadata": {
        "id": "eDYkPeut04Pd"
      }
    },
    {
      "cell_type": "code",
      "source": [
        "#Adrián Parra\n",
        "\n",
        "print(\"Este programa solicitará dos nombres y estudia si hay coincidencia entre sí\")\n",
        "n1=str(input(\"Nombre 1: \"))\n",
        "n1=n1.upper()\n",
        "n2=str(input(\"Nombre 2: \"))\n",
        "n2=n2.upper()\n",
        "\n",
        "if (n1[0])==(n2[0]):\n",
        "  print(\"Hay coincidencia\")\n",
        "elif (n1[-1])==(n2[-1]):\n",
        "  print(\"Hay coincidencia\")\n",
        "else:\n",
        "  print(\"No hay coincidencia\")\n",
        "\n"
      ],
      "metadata": {
        "id": "Uq9F5re406S9"
      },
      "execution_count": null,
      "outputs": []
    },
    {
      "cell_type": "markdown",
      "source": [
        "#Ejercicio 17"
      ],
      "metadata": {
        "id": "b-aP0-oT7a34"
      }
    },
    {
      "cell_type": "code",
      "source": [
        "#Adrián Parra\n",
        "\n",
        "print(\"Con este programa podrá votar por un canditato\")\n",
        "print(\"A) Canditato A, partido Alfa\")\n",
        "print(\"B) Canditato B, partido Beta\")\n",
        "print(\"C) Canditato C, partido Gamma\")\n",
        "\n",
        "voto=str(input(\"Ingrese la letra del canditato al que desea votar: \"))\n",
        "voto=voto.upper()\n",
        "\n",
        "if voto==(\"A\") or voto==(\"B\") or voto==(\"C\"):\n",
        "  if voto==(\"A\"):\n",
        "    print(\"Ud votó por el canditato A del partido Alfa\")\n",
        "  elif voto==(\"B\"):\n",
        "    print(\"Ud votó por el canditato B del partido Beta\")\n",
        "  elif voto==(\"C\"):\n",
        "    print(\"Ud votó por el canditato C del partido Gamma\")\n",
        "else:\n",
        "  print(\"Voto nulo, cometió un error\")\n",
        "\n"
      ],
      "metadata": {
        "id": "HLn79t7g7eWY"
      },
      "execution_count": null,
      "outputs": []
    },
    {
      "cell_type": "markdown",
      "source": [
        "#Ejercicio 19"
      ],
      "metadata": {
        "id": "VJTHjcTS36CW"
      }
    },
    {
      "cell_type": "code",
      "source": [
        "#Adrián Parra\n",
        "\n",
        "print(\"Este prgrama verificará si una palabra es palíndromo o no\")\n",
        "p=str(input(\"Ingrese una palabra: \"))\n",
        "p=p.upper()\n",
        "\n",
        "if (p) == (p)[::-1] :\n",
        "    print(\"Es un palíndromo\")\n",
        "else:\n",
        "    print(\"No es un palíndromo\")"
      ],
      "metadata": {
        "id": "WlmtjWBf38lN"
      },
      "execution_count": null,
      "outputs": []
    },
    {
      "cell_type": "markdown",
      "source": [
        "#Ejercicio 20"
      ],
      "metadata": {
        "id": "Fhm75fYm45UK"
      }
    },
    {
      "cell_type": "code",
      "source": [
        "#Adrián Parra\n",
        "\n",
        "print(\"Este prgrama verificará si un número es palíndromo o no\")\n",
        "p=int(input(\"Ingrese el número: \"))\n",
        "\n",
        "if str(p) == str(p)[::-1] :\n",
        "    print(\"Es un palíndromo\")\n",
        "else:\n",
        "    print(\"No es un palíndromo\")"
      ],
      "metadata": {
        "id": "w27avlqA45UL"
      },
      "execution_count": null,
      "outputs": []
    }
  ]
}