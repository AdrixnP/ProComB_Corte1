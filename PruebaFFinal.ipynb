{
  "nbformat": 4,
  "nbformat_minor": 0,
  "metadata": {
    "colab": {
      "provenance": [],
      "collapsed_sections": []
    },
    "kernelspec": {
      "name": "python3",
      "display_name": "Python 3"
    },
    "language_info": {
      "name": "python"
    }
  },
  "cells": [
    {
      "cell_type": "code",
      "source": [
        "clase1 = { }\n",
        "notaf=0\n",
        "i1=int(input(\"Ingrese la cantidad de estudintes en el curso 1: \"))\n",
        "nnotas1=int(input(\"Número de notas en el curso 1: \"))\n",
        "for a in range (0, i1):\n",
        "  print(\"-------------------------\")\n",
        "  print(\"Estudiante\", a+1)\n",
        "  \n",
        "  for a2 in range (0, nnotas1):\n",
        "    iS=str(a2+1)\n",
        "    notaf=int(input(\"Ingrese la nota del estudiante: \"))\n",
        "    clase1[iS] = notaf\n",
        "print(\"-------------------------\")\n",
        "print(clase1)"
      ],
      "metadata": {
        "colab": {
          "base_uri": "https://localhost:8080/"
        },
        "id": "8idMpy3qPN8Z",
        "outputId": "519d9afe-5b49-4b09-cf92-8960eb1312ea"
      },
      "execution_count": 27,
      "outputs": [
        {
          "output_type": "stream",
          "name": "stdout",
          "text": [
            "Ingrese la cantidad de estudintes en el curso 1: 3\n",
            "Número de notas en el curso 1: 3\n",
            "-------------------------\n",
            "Estudiante 1\n",
            "Ingrese la nota del estudiante: 32\n",
            "Ingrese la nota del estudiante: 43\n",
            "Ingrese la nota del estudiante: 23\n",
            "-------------------------\n",
            "Estudiante 2\n",
            "Ingrese la nota del estudiante: 43\n",
            "Ingrese la nota del estudiante: 23\n",
            "Ingrese la nota del estudiante: 43\n",
            "-------------------------\n",
            "Estudiante 3\n",
            "Ingrese la nota del estudiante: 23\n",
            "Ingrese la nota del estudiante: 4\n",
            "Ingrese la nota del estudiante: 3\n",
            "-------------------------\n",
            "Estudiante 4\n",
            "Ingrese la nota del estudiante: 34\n",
            "Ingrese la nota del estudiante: 32\n",
            "Ingrese la nota del estudiante: 3\n",
            "-------------------------\n",
            "{'1': 34, '2': 32, '3': 3}\n"
          ]
        }
      ]
    },
    {
      "cell_type": "code",
      "source": [
        "clase1 = { }\n",
        "notaf=0\n",
        "i=int(input(\"Ingrese la cantidad de estudintes en el salón: \"))\n",
        "for a in range (0, i):\n",
        "  iS=str(a+1)\n",
        "  clase1[iS]= 0\n",
        "  notaf=int(input(\"Ingrese la nota del estudiante: \"))\n",
        "print(clase1)"
      ],
      "metadata": {
        "colab": {
          "base_uri": "https://localhost:8080/"
        },
        "id": "0v3Fieo9WmFX",
        "outputId": "19419d37-d12c-4d1c-f490-d5b509bf8dcb"
      },
      "execution_count": 31,
      "outputs": [
        {
          "output_type": "stream",
          "name": "stdout",
          "text": [
            "Ingrese la cantidad de estudintes en el salón: 2\n",
            "Ingrese la nota del estudiante: 3\n",
            "Ingrese la nota del estudiante: 2\n",
            "{'1': 0, '2': 0}\n"
          ]
        }
      ]
    }
  ]
}