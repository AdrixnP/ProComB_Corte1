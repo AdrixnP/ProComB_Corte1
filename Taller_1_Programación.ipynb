{
  "nbformat": 4,
  "nbformat_minor": 0,
  "metadata": {
    "colab": {
      "name": "Taller 1 Programación",
      "provenance": []
    },
    "kernelspec": {
      "name": "python3",
      "display_name": "Python 3"
    },
    "language_info": {
      "name": "python"
    }
  },
  "cells": [
    {
      "cell_type": "markdown",
      "source": [
        "#Ejercicio 1\n"
      ],
      "metadata": {
        "id": "W7sf1Se4qfES"
      }
    },
    {
      "cell_type": "code",
      "source": [
        "#Adrián Parra\n",
        "\n",
        "print(\"Este programa solicitara 2 números para luego realizar su división\")\n",
        "\n",
        "n1=int(input(\"Ingrese el número que se va a dividir: \"))\n",
        "n2=int(input(\"Ingrese el número por el que se va a divir: \"))\n",
        "\n",
        "if n2 != 0:\n",
        "  #Se debe ingresar la división dentro del if para que no de error con divisir entre 0\n",
        "\n",
        "  rta=float(n1/n2)\n",
        "  residuo=(n1%n2)\n",
        "  if residuo == 0:\n",
        "    print(\"-El resultado de la división de\", (n1), \"entre\", (n2), \"es:\", int(rta))\n",
        "    print(\"-División exacta\")\n",
        "\n",
        "  else:\n",
        "    print(\"-El resultado de la división de\", (n1), \"entre\", (n2), \"es:\", (rta))\n",
        "    print(\"-División no exacta\")\n",
        "    \n",
        "    print(\"-De forma entera sería\", (n1//n2), \"con un residuo de\", (residuo))\n",
        "\n",
        "else:\n",
        "  print(\"-Error, división entre 0\")"
      ],
      "metadata": {
        "id": "xtYRcmQxr7rt"
      },
      "execution_count": null,
      "outputs": []
    },
    {
      "cell_type": "markdown",
      "source": [
        "#Ejercicio 2"
      ],
      "metadata": {
        "id": "JjBIGYePxm6t"
      }
    },
    {
      "cell_type": "code",
      "source": [
        "#Adrián Parra\n",
        "\n",
        "print(\"Este programa solicita 2 números y verificará si uno es múltiplo de otro\")\n",
        "\n",
        "n1=int(input(\"Ingrese el primer número: \"))\n",
        "n2=int(input(\"Ingrese el segundo número: \"))\n",
        "rta=(n1%n2)\n",
        "\n",
        "if rta == 0:\n",
        "  print(\"El número\", (n1), \"si es múltiplo de\", (n2))\n",
        "else:\n",
        "  print(\"El número\", (n1), \"no es múltiplo de\", (n2))"
      ],
      "metadata": {
        "id": "E1bxVLiqxplL"
      },
      "execution_count": null,
      "outputs": []
    },
    {
      "cell_type": "markdown",
      "source": [
        "#Ejercicio 3"
      ],
      "metadata": {
        "id": "bEAqexNC0Vrr"
      }
    },
    {
      "cell_type": "code",
      "source": [
        "#Adrián Parra\n",
        "\n",
        "print(\"Este programa solicirá la edad de 3 hermanos y los ordenará de menor a mayor\")\n",
        "\n",
        "h1=int(input(\"Ingrese la edad un hermano: \"))\n",
        "h2=int(input(\"Ingrese la edad del otro hermano: \"))\n",
        "h3=int(input(\"Ingrese la edad del hermano restante: \"))\n",
        "\n",
        "if h3<h2 and h3<h1 and h2<h1:\n",
        "  print(f\"El orden de menor a mayor sería el de {h3} años, luego el de {h2} años y finalmente el de {h1} años\")\n",
        "elif h3<h1 and h3<h2 and h1<h2:\n",
        "  print(f\"El orden de menor a mayor sería el de {h3} años, luego el de {h1} años y finalmente el de {h2} años\")\n",
        "elif h2<h3 and h2<h1 and h3<h1:\n",
        "  print(f\"El orden de menor a mayor sería el de {h2} años, luego el de {h3} años y finalmente el de {h1} años\")\n",
        "elif h2<h1 and h2<h3 and h1<h3:\n",
        "  print(f\"El orden de menor a mayor sería el de {h2} años, luego el de {h1} años y finalmente el de {h3} años\")\n",
        "elif h1<h2 and h1<h3 and h2<h3:\n",
        "  print(f\"El orden de menor a mayor sería el de {h1} años, luego el de {h2} años y finalmente el de {h3} años\")\n",
        "elif h1<h3 and h1<h2 and h3<h2:\n",
        "  print(f\"El orden de menor a mayor sería el de {h1} años, luego el de {h3} años y finalmente el de {h2} años\")\n",
        "elif h1==h2 and h1==h3:\n",
        "  print(f\"Los hermanos son trillizos de {h1} años\")\n",
        "elif h3==h2 and h3<h1:\n",
        "  print(f\"El orden de menor a mayor sería los gemelos de {h3} años y luego el hermano de {h1} años\")\n",
        "elif h3==h2 and h3>h1:\n",
        "  print(f\"El orden de menor a mayor sería el hermano de {h1} años y luego los gemelos de {h3} años\")\n",
        "elif h3==h1 and h3<h2:\n",
        "  print(f\"El orden de menor a mayor sería los gemelos de {h3} años y luego el hermano de {h2} años\")\n",
        "elif h3==h1 and h3>h2:\n",
        "  print(f\"El orden de menor a mayor sería el hermano de {h2} años y luego los gemelos de {h3} años\")\n",
        "elif h2==h1 and h2<h3:\n",
        "  print(f\"El orden de menor a mayor sería los gemelos de {h2} años y luego el hermano de {h3} años\")\n",
        "elif h2==h1 and h2>h3:\n",
        "  print(f\"El orden de menor a mayor sería el hermano de {h3} años y luego los gemelos de {h2} años\")"
      ],
      "metadata": {
        "id": "MKJtm73w0Yt6"
      },
      "execution_count": null,
      "outputs": []
    },
    {
      "cell_type": "markdown",
      "source": [
        "#Ejercicio 6"
      ],
      "metadata": {
        "id": "5tr7eahw9krV"
      }
    },
    {
      "cell_type": "code",
      "source": [
        "#Adrián Parra\n",
        "\n",
        "print(\"Este programa solicitará 4 notas y sacará su promedio\")\n",
        "print(\"Luego dependiendo del promedio le dirá que debe hacer para el fin de curso\")\n",
        "\n",
        "n1=float(input(\"Ingrese la nota 1: \"))\n",
        "n2=float(input(\"Ingrese la nota 2: \"))\n",
        "n3=float(input(\"Ingrese la nota 3: \"))\n",
        "n4=float(input(\"Ingrese la nota 4: \"))\n",
        "t=(n1+n2+n3+n4)\n",
        "p=(t/4)\n",
        "\n",
        "print(p)\n",
        "\n",
        "if p>=4.5:\n",
        "  print(\"Ud esta eximido del último examen, felicitaciones\")\n",
        "elif p>3.5 and p<4.5:\n",
        "  print(\"Ud debe presentar el examen final\")\n",
        "elif p>=3 and p<=3.5:\n",
        "  print(\"Ud debe presentar el examen final y realizar un trabajo aparte\")\n",
        "elif p<3 and p>2:\n",
        "  print(\"Ud debe presentar habilitación\")\n",
        "else:\n",
        "  print(\"Ya perdió la materia irremediablemente\")"
      ],
      "metadata": {
        "id": "Ws9mnREP9ma9"
      },
      "execution_count": null,
      "outputs": []
    },
    {
      "cell_type": "markdown",
      "source": [
        "#Ejercicio 8\n"
      ],
      "metadata": {
        "id": "b1Xcu0byD-pZ"
      }
    },
    {
      "cell_type": "code",
      "source": [
        "#Adrián Parra\n",
        "\n",
        "print(\"Este programa solicita un año y evalua si es bisiesto\")\n",
        "año=int(input(\"Escribe el año \"))\n",
        "\n",
        "if año%4==0 and año%100==0 and año%400==0:\n",
        "    print(\"El año es bisiesto\")\n",
        "elif año%4==0 and año%100!=0:\n",
        "    print(\"El año es bisiesto\")       \n",
        "else:\n",
        "    print(\"El año no es bisiesto\")"
      ],
      "metadata": {
        "id": "sEKXhMonEIvY"
      },
      "execution_count": null,
      "outputs": []
    }
  ]
}