{
  "nbformat": 4,
  "nbformat_minor": 0,
  "metadata": {
    "colab": {
      "provenance": []
    },
    "kernelspec": {
      "name": "python3",
      "display_name": "Python 3"
    },
    "language_info": {
      "name": "python"
    }
  },
  "cells": [
    {
      "cell_type": "markdown",
      "source": [
        "#SECUENCIA DE DATOS\n"
      ],
      "metadata": {
        "id": "SHcbrJhhNGOk"
      }
    },
    {
      "cell_type": "markdown",
      "source": [
        "##LISTAS\n",
        "También conocidas como vectores o arrays.\n",
        "Es una variable que, en lugar de contener un valor, contiene una secuencia ordenada de estos, a los que se puede acceder por su posición o por su índice.\n",
        "Se declaran indicando sus elementos, separados por comas, entre corchetes []"
      ],
      "metadata": {
        "id": "325LVBzsM0x7"
      }
    },
    {
      "cell_type": "code",
      "execution_count": 7,
      "metadata": {
        "colab": {
          "base_uri": "https://localhost:8080/"
        },
        "id": "23GjaB68MkIG",
        "outputId": "75213059-130e-427d-cd52-3e00a15d0fc6"
      },
      "outputs": [
        {
          "output_type": "execute_result",
          "data": {
            "text/plain": [
              "['primero', 'segundo', 'tercero', 'cuarto']"
            ]
          },
          "metadata": {},
          "execution_count": 7
        }
      ],
      "source": [
        "lista=[\"primero\",\"segundo\", \"tercero\", \"cuarto\"]\n",
        "lista"
      ]
    },
    {
      "cell_type": "markdown",
      "source": [
        "###Accediendo a los elementos de la lista"
      ],
      "metadata": {
        "id": "yPn3XFg4PWpt"
      }
    },
    {
      "cell_type": "code",
      "source": [
        "#Accediendo a la lista por posición\n",
        "lista[0]"
      ],
      "metadata": {
        "colab": {
          "base_uri": "https://localhost:8080/",
          "height": 36
        },
        "id": "-63XOgdXOzdR",
        "outputId": "38b6d68a-c6d3-4739-ce07-0daa751f2a72"
      },
      "execution_count": 8,
      "outputs": [
        {
          "output_type": "execute_result",
          "data": {
            "text/plain": [
              "'primero'"
            ],
            "application/vnd.google.colaboratory.intrinsic+json": {
              "type": "string"
            }
          },
          "metadata": {},
          "execution_count": 8
        }
      ]
    },
    {
      "cell_type": "code",
      "source": [
        "#Accediendo a todos los elementos de la lista empleando el slicing\n",
        "lista[:]"
      ],
      "metadata": {
        "colab": {
          "base_uri": "https://localhost:8080/"
        },
        "id": "cadWYF2xSW8L",
        "outputId": "1f0eb661-290a-467c-e251-f111393db281"
      },
      "execution_count": null,
      "outputs": [
        {
          "output_type": "execute_result",
          "data": {
            "text/plain": [
              "['primero', 'segundo', 'tercero', 'cuarto']"
            ]
          },
          "metadata": {},
          "execution_count": 4
        }
      ]
    },
    {
      "cell_type": "code",
      "source": [
        "#Accediendo a los dos primeros elementos de la lista\n",
        "lista[0:2]"
      ],
      "metadata": {
        "colab": {
          "base_uri": "https://localhost:8080/"
        },
        "id": "XsDQpQKISYiL",
        "outputId": "1a144327-f381-43b2-9303-5ab82cd8aa22"
      },
      "execution_count": null,
      "outputs": [
        {
          "output_type": "execute_result",
          "data": {
            "text/plain": [
              "['primero', 'segundo']"
            ]
          },
          "metadata": {},
          "execution_count": 5
        }
      ]
    },
    {
      "cell_type": "code",
      "source": [
        "#Existe alguna otra manera de imprimir los dos primeros elementos de la lista? Coloque la línea de código que hace esto.\n",
        "lista[:2]"
      ],
      "metadata": {
        "id": "miawsux8S7BD",
        "colab": {
          "base_uri": "https://localhost:8080/"
        },
        "outputId": "1b6348f3-79a0-4a0b-f57d-ed5aa401b24c"
      },
      "execution_count": 37,
      "outputs": [
        {
          "output_type": "execute_result",
          "data": {
            "text/plain": [
              "['primero', 'segundo']"
            ]
          },
          "metadata": {},
          "execution_count": 37
        }
      ]
    },
    {
      "cell_type": "code",
      "source": [
        "#Accediendo a los dos últimos elementos de la lista\n",
        "lista[2:4]"
      ],
      "metadata": {
        "colab": {
          "base_uri": "https://localhost:8080/"
        },
        "id": "RNcXanPzTB7u",
        "outputId": "bdc54a73-bf98-4ddf-aec7-65e04e9e9a4b"
      },
      "execution_count": null,
      "outputs": [
        {
          "output_type": "execute_result",
          "data": {
            "text/plain": [
              "['tercero', 'cuarto']"
            ]
          },
          "metadata": {},
          "execution_count": 9
        }
      ]
    },
    {
      "cell_type": "code",
      "source": [
        "#Qué pasará cuando se usa un índice negativo? Ejemplo: lista[-4], lista[-3]\n",
        "lista[-4],lista[-3]"
      ],
      "metadata": {
        "id": "_0cx4i7CVF_6",
        "colab": {
          "base_uri": "https://localhost:8080/"
        },
        "outputId": "ea504af2-5672-42c3-8a0d-fb624d1a1202"
      },
      "execution_count": 40,
      "outputs": [
        {
          "output_type": "execute_result",
          "data": {
            "text/plain": [
              "('primero', 'segundo')"
            ]
          },
          "metadata": {},
          "execution_count": 40
        }
      ]
    },
    {
      "cell_type": "markdown",
      "source": [
        "Imprime el elemento en dicha posición contando de derecha a izquierda"
      ],
      "metadata": {
        "id": "iBl-nCgSWXLz"
      }
    },
    {
      "cell_type": "code",
      "source": [
        "#Existe otra forma para acceder a los dos últimos elementos de la lista?. Coloque la línea de código que hace esto.\n",
        "lista[-2:]"
      ],
      "metadata": {
        "id": "Eg2ZIr5DTnFJ",
        "colab": {
          "base_uri": "https://localhost:8080/"
        },
        "outputId": "2d0543bb-08af-4068-9611-eb2d161694a2"
      },
      "execution_count": 34,
      "outputs": [
        {
          "output_type": "execute_result",
          "data": {
            "text/plain": [
              "['tercero', 'cuarto']"
            ]
          },
          "metadata": {},
          "execution_count": 34
        }
      ]
    },
    {
      "cell_type": "code",
      "source": [
        "#Cómo podría saberse la posición de la lista que ocupa un elemento? \n",
        "#Escriba el código que permita ingresar un elemento de la lista, e imprima la posición del elemento de la lista\n",
        "lista=[\"primero\",\"segundo\", \"tercero\", \"cuarto\"]\n",
        "print(lista)\n",
        "#Saber posición en la lista\n",
        "x=str(input(\"Ingrese el elemento que quiere saber: \"))\n",
        "print(\"El elemento se encuentra en la pisición\", lista.index(x))\n",
        "\n",
        "\n",
        "\n",
        "#Agregar elemento nuevo en la posición deseada\n",
        "a=str(input(\"¿Qué elemento desea añadir a la lista?: \"))\n",
        "n=int(input(\"¿En qué posición?: \"))\n",
        "lista.insert(n, a)\n",
        "print(lista)\n",
        "#Saber posición en la lista\n",
        "x=str(input(\"Ingrese el elemento que quiere saber: \"))\n",
        "print(\"El elemento se encuentra en la pisición\", lista.index(x))\n",
        "\n"
      ],
      "metadata": {
        "id": "AFYUJpJCQG9p",
        "colab": {
          "base_uri": "https://localhost:8080/"
        },
        "outputId": "518ac3dd-893f-4351-e95f-f6986bc7131f"
      },
      "execution_count": 74,
      "outputs": [
        {
          "output_type": "stream",
          "name": "stdout",
          "text": [
            "['primero', 'segundo', 'tercero', 'cuarto']\n",
            "Ingrese el elemento que quiere saber: tercero\n",
            "El elemento se encuentra en la pisición 2\n",
            "¿Qué elemento desea añadir a la lista?: hola\n",
            "¿En qué posición?: 2\n",
            "['primero', 'segundo', 'hola', 'tercero', 'cuarto']\n",
            "Ingrese el elemento que quiere saber: tercero\n",
            "El elemento se encuentra en la pisición 3\n"
          ]
        }
      ]
    },
    {
      "cell_type": "markdown",
      "source": [
        "###Operaciones con las listas"
      ],
      "metadata": {
        "id": "OPiv0fe4R8__"
      }
    },
    {
      "cell_type": "code",
      "source": [
        "#Crear una lista vacía\n",
        "ejemplo=[]"
      ],
      "metadata": {
        "id": "sgr461D-SAqe"
      },
      "execution_count": null,
      "outputs": []
    },
    {
      "cell_type": "code",
      "source": [
        "#Cómo se podría crear una matriz? Ingrese el código que permita generar una matriz 3x2, siendo la primera fila \"Nombre\", \"Peso\", \"Altura\"\n",
        "Name=[\"Nombre\", \"Peso[Kg]\", \"Altura[m]\"]\n",
        "#y diligencie la segunda fila con números\n",
        "N=str(input(\"Nombre: \"))\n",
        "P=float(input(\"Peso[Kg]: \"))\n",
        "A=float(input(\"Altura[m]: \"))\n",
        "Info=[N, P, A]\n",
        "\n",
        "#Llame a esa matriz calculo_IMC\n",
        "Calculo_IMC=[[Name],\n",
        "             [Info]]\n",
        "\n",
        "#Debe imprimir\n",
        "x=len(Calculo_IMC)\n",
        "for i in range(x):\n",
        "    print(Calculo_IMC[i])\n",
        "#Nombre  Peso[kg] Altura[m]\n",
        "#\"Sofía\"    57      1.65 \n",
        "\n"
      ],
      "metadata": {
        "id": "NnNEsFRbaUul",
        "colab": {
          "base_uri": "https://localhost:8080/"
        },
        "outputId": "50c3537a-758a-4f0e-dc04-d1e40c55141d"
      },
      "execution_count": 86,
      "outputs": [
        {
          "output_type": "stream",
          "name": "stdout",
          "text": [
            "Nombre: hola\n",
            "Peso[Kg]: 3\n",
            "Altura[m]: 2\n",
            "[['Nombre', 'Peso[Kg]', 'Altura[m]']]\n",
            "[['hola', 3.0, 2.0]]\n"
          ]
        }
      ]
    },
    {
      "cell_type": "code",
      "source": [
        "Name=[\"Nombre\", \"Peso[Kg]\", \"Altura[m]\"]\n",
        "N=str(input(\"Nombre: \"))\n",
        "P=float(input(\"Peso[Kg]: \"))\n",
        "A=float(input(\"Altura[m]: \"))\n",
        "Info=[N, P, A]\n",
        "\n",
        "Calculo_IMC=[[Name],\n",
        "             [Info]]\n",
        "\n",
        "Name.append(\"IMC\")\n",
        "\n",
        "IMC=(P/A**2)\n",
        "\n",
        "Info.append(IMC)\n",
        "\n",
        "for i in range(x):\n",
        "    print(Calculo_IMC[i])\n",
        "\n",
        "#Genere una cuarta columna para la matriz IMC, que tenga como nombre IMC y calcule el índice de masa corporal. Esto es:\n",
        "#Nombre  Peso[kg] Altura[m]  IMC\n",
        "#\"Sofía\"    57      1.65     (agrege aquí el resultado del cálculo)\n",
        "\n",
        "\n",
        "\n"
      ],
      "metadata": {
        "id": "UZ_ueaXJdJsT",
        "colab": {
          "base_uri": "https://localhost:8080/"
        },
        "outputId": "a6a072db-3cee-49bb-90d8-ada1ad626a03"
      },
      "execution_count": 91,
      "outputs": [
        {
          "output_type": "stream",
          "name": "stdout",
          "text": [
            "Nombre: Sofía\n",
            "Peso[Kg]: 57\n",
            "Altura[m]: 1.65\n",
            "[['Nombre', 'Peso[Kg]', 'Altura[m]', 'IMC']]\n",
            "[['Sofía', 57.0, 1.65, 20.936639118457304]]\n"
          ]
        }
      ]
    },
    {
      "cell_type": "code",
      "source": [
        "Name=[\"Nombre\", \"Peso[Kg]\", \"Altura[m]\"]\n",
        "N=str(input(\"Nombre: \"))\n",
        "P=float(input(\"Peso[Kg]: \"))\n",
        "A=float(input(\"Altura[m]: \"))\n",
        "Info=[N, P, A]\n",
        "\n",
        "Calculo_IMC=[[Name],\n",
        "             [Info]]\n",
        "\n",
        "Name.append(\"IMC\")\n",
        "Name.append(\"Descripción\")\n",
        "IMC=(P/A**2)\n",
        "if IMC<18.5:\n",
        "  info=str(\"Peso inferior al normal\")\n",
        "elif IMC>=18.5 and IMC<25:\n",
        "  info=str(\"Peso normal\")\n",
        "elif IMC>=25 and IMC<30:\n",
        "  info=str(\"Peso superior al normal\")\n",
        "elif IMC>=30 and IMC<35:\n",
        "  info=str(\"Obesidad tipo I\")\n",
        "elif IMC>=35 and IMC<40:\n",
        "  info=str(\"Obesidad tipo II\")\n",
        "elif IMC>=40:\n",
        "  info=str(\"Obesidad tipo III\")\n",
        "\n",
        "Info.append(IMC)\n",
        "Info.append(info)\n",
        "\n",
        "for i in range(x):\n",
        "    print(Calculo_IMC[i])\n",
        "#Genere una quinta columna en la matriz calculo_IMC que emita una descripción obtenida del IMC. Esto es:\n",
        "#Nombre  Peso[kg] Altura[m]  IMC        Descripción\n",
        "#\"Sofía\"    57      1.65     (calculo)  (Dependiendo del IMC debe registrar peso normal, sobrepeso, obesidad tipo I, obesidad tipo II... etc.\n",
        "\n",
        "\n",
        "\n"
      ],
      "metadata": {
        "id": "cgQqg0YJffSH",
        "colab": {
          "base_uri": "https://localhost:8080/"
        },
        "outputId": "37086bbe-5d1e-4f7c-cd64-7a95349ba312"
      },
      "execution_count": 94,
      "outputs": [
        {
          "output_type": "stream",
          "name": "stdout",
          "text": [
            "Nombre: Sofia\n",
            "Peso[Kg]: 57\n",
            "Altura[m]: 1.65\n",
            "[['Nombre', 'Peso[Kg]', 'Altura[m]', 'IMC', 'Descripción']]\n",
            "[['Sofia', 57.0, 1.65, 20.936639118457304, 'Peso normal']]\n"
          ]
        }
      ]
    },
    {
      "cell_type": "code",
      "source": [
        "#Conocer el tamaño del vector\n",
        "len(ejemplo)"
      ],
      "metadata": {
        "colab": {
          "base_uri": "https://localhost:8080/"
        },
        "id": "KZ5QnAzbaH_v",
        "outputId": "e6d57ab7-700e-4ffc-f755-3ef715b4922e"
      },
      "execution_count": null,
      "outputs": [
        {
          "output_type": "execute_result",
          "data": {
            "text/plain": [
              "4"
            ]
          },
          "metadata": {},
          "execution_count": 28
        }
      ]
    },
    {
      "cell_type": "code",
      "source": [
        "#Llenar una lista vacía\n",
        "ejemplo.append(\"Hola\")"
      ],
      "metadata": {
        "id": "JsgmYIkuSVFj"
      },
      "execution_count": null,
      "outputs": []
    },
    {
      "cell_type": "code",
      "source": [
        "#Una lista puede tener diferente tipo de datos!!\n",
        "ejemplo=[\"banana\",\"sandía\", 4, 5, False]\n",
        "ejemplo\n",
        "#Qué pasó con el elemento \"Hola\"?"
      ],
      "metadata": {
        "colab": {
          "base_uri": "https://localhost:8080/"
        },
        "id": "q6LTGURtY_RM",
        "outputId": "49b377b6-a0d0-4ecd-8dc7-620c2319f0cd"
      },
      "execution_count": null,
      "outputs": [
        {
          "output_type": "execute_result",
          "data": {
            "text/plain": [
              "['banana', 'sandía', 4, 5, False]"
            ]
          },
          "metadata": {},
          "execution_count": 34
        }
      ]
    },
    {
      "cell_type": "code",
      "source": [
        "#Eliminar un elemento de la lista\n",
        "ejemplo.remove(4)\n",
        "ejemplo"
      ],
      "metadata": {
        "colab": {
          "base_uri": "https://localhost:8080/"
        },
        "id": "p_o0X4fKZw0k",
        "outputId": "845f0f99-44ac-49f9-df9d-b62a4bcb49de"
      },
      "execution_count": null,
      "outputs": [
        {
          "output_type": "execute_result",
          "data": {
            "text/plain": [
              "['banana', 'sandía', 5, False]"
            ]
          },
          "metadata": {},
          "execution_count": 35
        }
      ]
    },
    {
      "cell_type": "code",
      "source": [
        "#Podría explicar el error generado?\n",
        "ejemplo.remove(4)"
      ],
      "metadata": {
        "colab": {
          "base_uri": "https://localhost:8080/",
          "height": 190
        },
        "id": "ODz7MJvbbh8e",
        "outputId": "161d7b46-bb6f-4f16-ad6d-be88be00a2fb"
      },
      "execution_count": 51,
      "outputs": [
        {
          "output_type": "error",
          "ename": "NameError",
          "evalue": "ignored",
          "traceback": [
            "\u001b[0;31m---------------------------------------------------------------------------\u001b[0m",
            "\u001b[0;31mNameError\u001b[0m                                 Traceback (most recent call last)",
            "\u001b[0;32m<ipython-input-51-cc5e3be70b57>\u001b[0m in \u001b[0;36m<module>\u001b[0;34m\u001b[0m\n\u001b[1;32m      1\u001b[0m \u001b[0;31m#Podría explicar el error generado?\u001b[0m\u001b[0;34m\u001b[0m\u001b[0;34m\u001b[0m\u001b[0;34m\u001b[0m\u001b[0m\n\u001b[0;32m----> 2\u001b[0;31m \u001b[0mejemplo\u001b[0m\u001b[0;34m.\u001b[0m\u001b[0mremove\u001b[0m\u001b[0;34m(\u001b[0m\u001b[0;36m4\u001b[0m\u001b[0;34m)\u001b[0m\u001b[0;34m\u001b[0m\u001b[0;34m\u001b[0m\u001b[0m\n\u001b[0m",
            "\u001b[0;31mNameError\u001b[0m: name 'ejemplo' is not defined"
          ]
        }
      ]
    },
    {
      "cell_type": "markdown",
      "source": [
        "El error se debe a que al ya ser eliminado el elemento anteriormente, este ya no se encuentra en la lista para eliminarse"
      ],
      "metadata": {
        "id": "V7MzA5Qui2Aw"
      }
    },
    {
      "cell_type": "code",
      "source": [
        "#Podría explicar el resultado de este método? \n",
        "del ejemplo[2]\n",
        "ejemplo"
      ],
      "metadata": {
        "colab": {
          "base_uri": "https://localhost:8080/",
          "height": 208
        },
        "id": "lhRUkQOEcWHu",
        "outputId": "9983ecfd-ec0c-4035-82c8-8e4e0fdeb627"
      },
      "execution_count": 95,
      "outputs": [
        {
          "output_type": "error",
          "ename": "NameError",
          "evalue": "ignored",
          "traceback": [
            "\u001b[0;31m---------------------------------------------------------------------------\u001b[0m",
            "\u001b[0;31mNameError\u001b[0m                                 Traceback (most recent call last)",
            "\u001b[0;32m<ipython-input-95-93f5d3a93cc5>\u001b[0m in \u001b[0;36m<module>\u001b[0;34m\u001b[0m\n\u001b[1;32m      1\u001b[0m \u001b[0;31m#Podría explicar el resultado de este método?\u001b[0m\u001b[0;34m\u001b[0m\u001b[0;34m\u001b[0m\u001b[0;34m\u001b[0m\u001b[0m\n\u001b[0;32m----> 2\u001b[0;31m \u001b[0;32mdel\u001b[0m \u001b[0mejemplo\u001b[0m\u001b[0;34m[\u001b[0m\u001b[0;36m2\u001b[0m\u001b[0;34m]\u001b[0m\u001b[0;34m\u001b[0m\u001b[0;34m\u001b[0m\u001b[0m\n\u001b[0m\u001b[1;32m      3\u001b[0m \u001b[0mejemplo\u001b[0m\u001b[0;34m\u001b[0m\u001b[0;34m\u001b[0m\u001b[0m\n",
            "\u001b[0;31mNameError\u001b[0m: name 'ejemplo' is not defined"
          ]
        }
      ]
    },
    {
      "cell_type": "markdown",
      "source": [
        "Se eliminó la lista, por lo cual no existe y no se puede imprimir"
      ],
      "metadata": {
        "id": "NCC5dfM2ksRo"
      }
    },
    {
      "cell_type": "markdown",
      "source": [
        "### EJERCICIO PARA ELIMINAR UN QUEST OBLIGATORIO ☝\n",
        "\n",
        "![Texto alternativo](https://cdn.memegenerator.es/imagenes/memes/full/28/50/28507442.jpg)\n",
        "\n",
        "Realiza el ejercicio propuesto de forma correcta antes de que acabe el tiempo, y hazte acreedor@ de eliminar un quest obligatorio ✨"
      ],
      "metadata": {
        "id": "hmS_3bTvgCph"
      }
    },
    {
      "cell_type": "code",
      "source": [
        "# Revise la página https://www.researchgate.net/publication/273298847_Piedra_Papel_Tijera_y_sus_generalizaciones\n",
        "#Programe Piedra, papel, tijera, spock, lagarto, Papa y heavy usando arreglos.\n",
        "\n",
        "#No se UnU\n",
        "\n",
        "Jugada=[\"piedra\", \"papel\", \"tijera\", \"spock\", \"lagarto\", \"papa\", \"heavy\"]\n",
        "\n",
        "M1=0\n",
        "M2=0\n",
        "\n",
        "while M1<2 or M2<2:\n",
        "\n",
        "  lista.index(x)\n",
        "  J1=J1.upper()\n",
        "\n",
        "  CPU = random.randint(0, 6)\n",
        "  if CPU==0:\n",
        "    CPU=\"PIEDRA\"\n",
        "  elif CPU==1:\n",
        "    CPU=\"PAPEL\"\n",
        "  elif CPU==2:\n",
        "    CPU=\"TIJERA\"\n",
        "  elif CPU==3:\n",
        "    CPU=\"LAGARTO\"\n",
        "  elif CPU==4:\n",
        "    CPU=\"SPOCK\"\n",
        "\n",
        "  if J1==\"PIEDRA\":\n",
        "    if CPU==\"TIJERA\" or CPU==\"LAGARTO\":\n",
        "      print(\"CPU=\", CPU)\n",
        "      print(\"Ganaste\")\n",
        "      M1+=1\n",
        "      print(M1, \"/\", M2)\n",
        "      if M1>1 or M2>1:\n",
        "        break\n",
        "    elif CPU==\"PAPEL\" or CPU==\"SPOCK\":\n",
        "      print(\"CPU=\", CPU)\n",
        "      print(\"Perdiste\")\n",
        "      M2+=1\n",
        "      print(M1, \"/\", M2)\n",
        "      if M1>1 or M2>1:\n",
        "        break\n",
        "    elif CPU==\"PIEDRA\":\n",
        "      print(\"CPU=\", CPU)\n",
        "      print(\"Empate\")\n",
        "      print(M1, \"/\", M2)\n",
        "      if M1>1 or M2>1:\n",
        "        break\n",
        "  elif J1==\"PAPEL\":\n",
        "    if CPU==\"PIEDRA\" or CPU==\"SPOCK\":\n",
        "      print(\"CPU=\", CPU)\n",
        "      print(\"Ganaste\")\n",
        "      M1+=1\n",
        "      print(M1, \"/\", M2)\n",
        "      if M1>1 or M2>1:\n",
        "        break\n",
        "    elif CPU==\"TIJERA\" or CPU==\"LAGARTO\":\n",
        "      print(\"CPU=\", CPU)\n",
        "      print(\"Perdiste\")\n",
        "      M2+=1\n",
        "      print(M1, \"/\", M2)\n",
        "      if M1>1 or M2>1:\n",
        "        break\n",
        "    elif CPU==\"PAPEL\":\n",
        "      print(\"CPU=\", CPU)\n",
        "      print(\"Empate\")\n",
        "      print(M1, \"/\", M2)\n",
        "      if M1>1 or M2>1:\n",
        "        break\n",
        "  elif J1==\"TIJERA\":\n",
        "    if CPU==\"PAPEL\" or CPU==\"LAGARTO\":\n",
        "      print(\"CPU=\", CPU)\n",
        "      print(\"Ganaste\")\n",
        "      M1+=1\n",
        "      print(M1, \"/\", M2)\n",
        "      if M1>1 or M2>1:\n",
        "        break\n",
        "    elif CPU==\"PIEDRA\" or CPU==\"SPOCK\":\n",
        "      print(\"CPU=\", CPU)\n",
        "      print(\"Perdiste\")\n",
        "      M2+=1\n",
        "      print(M1, \"/\", M2)\n",
        "      if M1>1 or M2>1:\n",
        "        break\n",
        "    elif CPU==\"TIJERA\":\n",
        "      print(\"CPU=\", CPU)\n",
        "      print(\"Empate\")\n",
        "      print(M1, \"/\", M2)\n",
        "      if M1>1 or M2>1:\n",
        "        break\n",
        "  elif J1==\"LAGARTO\":\n",
        "    if CPU==\"PAPEL\" or CPU==\"SPOCK\":\n",
        "      print(\"CPU=\", CPU)\n",
        "      print(\"Ganaste\")\n",
        "      M1+=1\n",
        "      print(M1, \"/\", M2)\n",
        "      if M1>1 or M2>1:\n",
        "        break\n",
        "    elif CPU==\"PIEDRA\" or CPU==\"TIJERAS\":\n",
        "      print(\"CPU=\", CPU)\n",
        "      print(\"Perdiste\")\n",
        "      M2+=1\n",
        "      print(M1, \"/\", M2)\n",
        "      if M1>1 or M2>1:\n",
        "        break\n",
        "    elif CPU==\"LAGARTO\":\n",
        "      print(\"CPU=\", CPU)\n",
        "      print(\"Empate\")\n",
        "      print(M1, \"/\", M2)\n",
        "      if M1>1 or M2>1:\n",
        "        break\n",
        "  elif J1==\"SPOCK\":\n",
        "    if CPU==\"PAPEL\" or CPU==\"TIJERA\":\n",
        "      print(\"CPU=\", CPU)\n",
        "      print(\"Ganaste\")\n",
        "      M1+=1\n",
        "      print(M1, \"/\", M2)\n",
        "      if M1>1 or M2>1:\n",
        "        break\n",
        "    elif CPU==\"PIEDRA\" or CPU==\"LAGARTO\":\n",
        "      print(\"CPU=\", CPU)\n",
        "      print(\"Perdiste\")\n",
        "      M2+=1\n",
        "      print(M1, \"/\", M2)\n",
        "      if M1>1 or M2>1:\n",
        "        break\n",
        "    elif CPU==\"SPOCK\":\n",
        "      print(\"CPU=\", CPU)\n",
        "      print(\"Empate\")\n",
        "      print(M1, \"/\", M2)\n",
        "      if M1>1 or M2>1:\n",
        "        break\n",
        "    \n",
        "if M1>M2:\n",
        "  print(\"Ganaste el juego, Tú\", M1, \"/ CPU\", M2)\n",
        "elif M1<M2:\n",
        "    print(\"Perdiste el juego, Tú\", M1, \"/ CPU\", M2)\n",
        "    print(\"Buena suerte a la próxima :(\")"
      ],
      "metadata": {
        "id": "p0SGwGpNgBaz"
      },
      "execution_count": null,
      "outputs": []
    }
  ]
}