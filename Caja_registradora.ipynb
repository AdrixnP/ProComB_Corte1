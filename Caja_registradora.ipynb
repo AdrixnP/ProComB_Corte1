{
  "nbformat": 4,
  "nbformat_minor": 0,
  "metadata": {
    "colab": {
      "provenance": []
    },
    "kernelspec": {
      "name": "python3",
      "display_name": "Python 3"
    },
    "language_info": {
      "name": "python"
    }
  },
  "cells": [
    {
      "cell_type": "code",
      "execution_count": null,
      "metadata": {
        "colab": {
          "base_uri": "https://localhost:8080/"
        },
        "id": "J9tTYkay2c7C",
        "outputId": "593f74b0-4303-4fa1-c36c-1ad75d66a06f"
      },
      "outputs": [
        {
          "name": "stdout",
          "output_type": "stream",
          "text": [
            "-------------------------\n",
            "Restaurante el Poro felíz\n",
            "-------------------------\n",
            "\n",
            "Cliente 1\n",
            "\n",
            "    Menú\n",
            " Combo 1 $20000\n",
            " Combo 2 $25000\n",
            " Combo 3 $18000\n",
            " Combo 4 $24500\n",
            " Papas $3000\n",
            " Jugos Naturales $7000\n",
            " Cerveza $3500\n",
            " Agua $4000\n",
            " Gaseosas $2500\n",
            " \n",
            "¿Qué producto llevó el cliente? Combo 1\n"
          ]
        }
      ],
      "source": [
        "Turno=1\n",
        "Productos={\"Producto\": [\"Combo 1\",\"Combo 2\",\"Combo 3\",\"Combo 4\", \"Papas\", \"Jugos naturales\", \"Cerveza\", \"Agua\", \"Gaseosa\"],\"\": [\"$\",\"$\",\"$\",\"$\",\"$\",\"$\",\"$\",\"$\",\"$\"], \"Precio\": [20000, 25000, 18000, 24500, 3000, 7000, 3500, 4000, 2500]}\n",
        "print(\"-------------------------\\nRestaurante el Poro felíz\\n-------------------------\\n\")\n",
        "se=\"SI\"\n",
        "uwu=\"SI\"\n",
        "Contador=0\n",
        "while se==\"SI\":\n",
        "  print(\"Cliente\", Turno)\n",
        "\n",
        "  print(\"\\n    Menú\")\n",
        "  print(\" Combo 1 $20000\\n Combo 2 $25000\\n Combo 3 $18000\\n Combo 4 $24500\\n Papas $3000\\n Jugos Naturales $7000\\n Cerveza $3500\\n Agua $4000\\n Gaseosas $2500\\n \")\n",
        "#Manden ayuda\n",
        "  minicon=0\n",
        "  while uwu==\"SI\":\n",
        "    Pro=str(input(\"¿Qué producto llevó el cliente? \"))\n",
        "    #Aquí debe llamar a al posición del producto y llamar al valor llamado en la misma posición en los precios\n",
        "    Can=int(input(\"¿En qué cantidad? \"))\n",
        "    #Multiplica el precio con la cantidad\n",
        "    mul=Productos[\"Producto\"].index(Pro)\n",
        "    multiplicar=Productos.get(\"Precio\")\n",
        "    operacion=multiplicar*Can\n",
        "    minicon+=operacion\n",
        "    print(\"Subtotal=\", minicon)\n",
        "    uwu=str(input(\"¿Desea continuar? \"))\n",
        "    uwu=uwu.upper()\n",
        "\n",
        "\n",
        "  Turno+=1\n",
        "  print(\"-------------------------\\n\")\n",
        "\n",
        "  se=str(input(\"¿Desea continuar? \"))\n",
        "  print(\"\\n-------------------------\\n\")\n",
        "  se=se.upper()\n",
        "\n",
        "print(\"Fin del día\")\n"
      ]
    }
  ]
}